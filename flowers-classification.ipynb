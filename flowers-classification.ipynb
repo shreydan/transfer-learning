{
 "cells": [
  {
   "cell_type": "code",
   "execution_count": 1,
   "id": "e425d935",
   "metadata": {
    "_cell_guid": "b1076dfc-b9ad-4769-8c92-a6c4dae69d19",
    "_uuid": "8f2839f25d086af736a60e9eeb907d3b93b6e0e5",
    "execution": {
     "iopub.execute_input": "2022-07-09T17:44:28.707809Z",
     "iopub.status.busy": "2022-07-09T17:44:28.707363Z",
     "iopub.status.idle": "2022-07-09T17:44:28.720255Z",
     "shell.execute_reply": "2022-07-09T17:44:28.719117Z"
    },
    "papermill": {
     "duration": 0.020439,
     "end_time": "2022-07-09T17:44:28.722695",
     "exception": false,
     "start_time": "2022-07-09T17:44:28.702256",
     "status": "completed"
    },
    "tags": []
   },
   "outputs": [],
   "source": [
    "import numpy as np\n",
    "import pandas as pd\n",
    "\n",
    "import os\n",
    "from pathlib import Path\n",
    "\n",
    "from collections import Counter"
   ]
  },
  {
   "cell_type": "code",
   "execution_count": 2,
   "id": "8af90f06",
   "metadata": {
    "execution": {
     "iopub.execute_input": "2022-07-09T17:44:28.730794Z",
     "iopub.status.busy": "2022-07-09T17:44:28.730093Z",
     "iopub.status.idle": "2022-07-09T17:44:28.742034Z",
     "shell.execute_reply": "2022-07-09T17:44:28.741067Z"
    },
    "papermill": {
     "duration": 0.018612,
     "end_time": "2022-07-09T17:44:28.744452",
     "exception": false,
     "start_time": "2022-07-09T17:44:28.725840",
     "status": "completed"
    },
    "tags": []
   },
   "outputs": [],
   "source": [
    "ds_path = Path('../input/flowers/flowers').resolve()"
   ]
  },
  {
   "cell_type": "code",
   "execution_count": 3,
   "id": "e9fee087",
   "metadata": {
    "execution": {
     "iopub.execute_input": "2022-07-09T17:44:28.751900Z",
     "iopub.status.busy": "2022-07-09T17:44:28.751239Z",
     "iopub.status.idle": "2022-07-09T17:44:30.413905Z",
     "shell.execute_reply": "2022-07-09T17:44:30.412778Z"
    },
    "papermill": {
     "duration": 1.668974,
     "end_time": "2022-07-09T17:44:30.416207",
     "exception": false,
     "start_time": "2022-07-09T17:44:28.747233",
     "status": "completed"
    },
    "tags": []
   },
   "outputs": [
    {
     "data": {
      "text/plain": [
       "(Counter({'astilbe': 737,\n",
       "          'daffodil': 970,\n",
       "          'black_eyed_susan': 1000,\n",
       "          'bellflower': 873,\n",
       "          'common_daisy': 980,\n",
       "          'coreopsis': 1047,\n",
       "          'dandelion': 1052,\n",
       "          'water_lily': 982,\n",
       "          'carnation': 923,\n",
       "          'calendula': 978,\n",
       "          'california_poppy': 1022,\n",
       "          'sunflower': 1027,\n",
       "          'tulip': 1048,\n",
       "          'rose': 999,\n",
       "          'magnolia': 1048,\n",
       "          'iris': 1054}),\n",
       " 15740)"
      ]
     },
     "execution_count": 3,
     "metadata": {},
     "output_type": "execute_result"
    }
   ],
   "source": [
    "paths = list(ds_path.glob('*/*'))\n",
    "classes = [path.parent.stem for path in paths]\n",
    "\n",
    "Counter(classes), len(classes)"
   ]
  },
  {
   "cell_type": "code",
   "execution_count": 4,
   "id": "8cb7349d",
   "metadata": {
    "execution": {
     "iopub.execute_input": "2022-07-09T17:44:30.423415Z",
     "iopub.status.busy": "2022-07-09T17:44:30.423022Z",
     "iopub.status.idle": "2022-07-09T17:44:30.494391Z",
     "shell.execute_reply": "2022-07-09T17:44:30.492733Z"
    },
    "papermill": {
     "duration": 0.078511,
     "end_time": "2022-07-09T17:44:30.497575",
     "exception": false,
     "start_time": "2022-07-09T17:44:30.419064",
     "status": "completed"
    },
    "tags": []
   },
   "outputs": [
    {
     "name": "stdout",
     "output_type": "stream",
     "text": [
      "<class 'pandas.core.frame.DataFrame'>\n",
      "RangeIndex: 15740 entries, 0 to 15739\n",
      "Data columns (total 2 columns):\n",
      " #   Column  Non-Null Count  Dtype \n",
      "---  ------  --------------  ----- \n",
      " 0   path    15740 non-null  object\n",
      " 1   class   15740 non-null  object\n",
      "dtypes: object(2)\n",
      "memory usage: 246.1+ KB\n"
     ]
    }
   ],
   "source": [
    "df = pd.DataFrame({'path': paths, 'class': classes})\n",
    "df.info()"
   ]
  },
  {
   "cell_type": "code",
   "execution_count": 5,
   "id": "1b1ac1dd",
   "metadata": {
    "execution": {
     "iopub.execute_input": "2022-07-09T17:44:30.505822Z",
     "iopub.status.busy": "2022-07-09T17:44:30.505389Z",
     "iopub.status.idle": "2022-07-09T17:44:30.521167Z",
     "shell.execute_reply": "2022-07-09T17:44:30.519973Z"
    },
    "papermill": {
     "duration": 0.022514,
     "end_time": "2022-07-09T17:44:30.523600",
     "exception": false,
     "start_time": "2022-07-09T17:44:30.501086",
     "status": "completed"
    },
    "tags": []
   },
   "outputs": [
    {
     "data": {
      "text/html": [
       "<div>\n",
       "<style scoped>\n",
       "    .dataframe tbody tr th:only-of-type {\n",
       "        vertical-align: middle;\n",
       "    }\n",
       "\n",
       "    .dataframe tbody tr th {\n",
       "        vertical-align: top;\n",
       "    }\n",
       "\n",
       "    .dataframe thead th {\n",
       "        text-align: right;\n",
       "    }\n",
       "</style>\n",
       "<table border=\"1\" class=\"dataframe\">\n",
       "  <thead>\n",
       "    <tr style=\"text-align: right;\">\n",
       "      <th></th>\n",
       "      <th>path</th>\n",
       "      <th>class</th>\n",
       "    </tr>\n",
       "  </thead>\n",
       "  <tbody>\n",
       "    <tr>\n",
       "      <th>0</th>\n",
       "      <td>/kaggle/input/flowers/flowers/astilbe/11875142...</td>\n",
       "      <td>astilbe</td>\n",
       "    </tr>\n",
       "    <tr>\n",
       "      <th>1</th>\n",
       "      <td>/kaggle/input/flowers/flowers/astilbe/58795386...</td>\n",
       "      <td>astilbe</td>\n",
       "    </tr>\n",
       "    <tr>\n",
       "      <th>2</th>\n",
       "      <td>/kaggle/input/flowers/flowers/astilbe/39405092...</td>\n",
       "      <td>astilbe</td>\n",
       "    </tr>\n",
       "    <tr>\n",
       "      <th>3</th>\n",
       "      <td>/kaggle/input/flowers/flowers/astilbe/27763628...</td>\n",
       "      <td>astilbe</td>\n",
       "    </tr>\n",
       "    <tr>\n",
       "      <th>4</th>\n",
       "      <td>/kaggle/input/flowers/flowers/astilbe/67323836...</td>\n",
       "      <td>astilbe</td>\n",
       "    </tr>\n",
       "    <tr>\n",
       "      <th>5</th>\n",
       "      <td>/kaggle/input/flowers/flowers/astilbe/60324221...</td>\n",
       "      <td>astilbe</td>\n",
       "    </tr>\n",
       "    <tr>\n",
       "      <th>6</th>\n",
       "      <td>/kaggle/input/flowers/flowers/astilbe/37640315...</td>\n",
       "      <td>astilbe</td>\n",
       "    </tr>\n",
       "    <tr>\n",
       "      <th>7</th>\n",
       "      <td>/kaggle/input/flowers/flowers/astilbe/47909534...</td>\n",
       "      <td>astilbe</td>\n",
       "    </tr>\n",
       "    <tr>\n",
       "      <th>8</th>\n",
       "      <td>/kaggle/input/flowers/flowers/astilbe/93204551...</td>\n",
       "      <td>astilbe</td>\n",
       "    </tr>\n",
       "    <tr>\n",
       "      <th>9</th>\n",
       "      <td>/kaggle/input/flowers/flowers/astilbe/23017158...</td>\n",
       "      <td>astilbe</td>\n",
       "    </tr>\n",
       "  </tbody>\n",
       "</table>\n",
       "</div>"
      ],
      "text/plain": [
       "                                                path    class\n",
       "0  /kaggle/input/flowers/flowers/astilbe/11875142...  astilbe\n",
       "1  /kaggle/input/flowers/flowers/astilbe/58795386...  astilbe\n",
       "2  /kaggle/input/flowers/flowers/astilbe/39405092...  astilbe\n",
       "3  /kaggle/input/flowers/flowers/astilbe/27763628...  astilbe\n",
       "4  /kaggle/input/flowers/flowers/astilbe/67323836...  astilbe\n",
       "5  /kaggle/input/flowers/flowers/astilbe/60324221...  astilbe\n",
       "6  /kaggle/input/flowers/flowers/astilbe/37640315...  astilbe\n",
       "7  /kaggle/input/flowers/flowers/astilbe/47909534...  astilbe\n",
       "8  /kaggle/input/flowers/flowers/astilbe/93204551...  astilbe\n",
       "9  /kaggle/input/flowers/flowers/astilbe/23017158...  astilbe"
      ]
     },
     "execution_count": 5,
     "metadata": {},
     "output_type": "execute_result"
    }
   ],
   "source": [
    "df.head(10)"
   ]
  },
  {
   "cell_type": "markdown",
   "id": "3f23df49",
   "metadata": {
    "papermill": {
     "duration": 0.00282,
     "end_time": "2022-07-09T17:44:30.529615",
     "exception": false,
     "start_time": "2022-07-09T17:44:30.526795",
     "status": "completed"
    },
    "tags": []
   },
   "source": [
    "## In Progress 🚧️"
   ]
  }
 ],
 "metadata": {
  "kernelspec": {
   "display_name": "Python 3",
   "language": "python",
   "name": "python3"
  },
  "language_info": {
   "codemirror_mode": {
    "name": "ipython",
    "version": 3
   },
   "file_extension": ".py",
   "mimetype": "text/x-python",
   "name": "python",
   "nbconvert_exporter": "python",
   "pygments_lexer": "ipython3",
   "version": "3.7.12"
  },
  "papermill": {
   "default_parameters": {},
   "duration": 12.458377,
   "end_time": "2022-07-09T17:44:31.153760",
   "environment_variables": {},
   "exception": null,
   "input_path": "__notebook__.ipynb",
   "output_path": "__notebook__.ipynb",
   "parameters": {},
   "start_time": "2022-07-09T17:44:18.695383",
   "version": "2.3.4"
  }
 },
 "nbformat": 4,
 "nbformat_minor": 5
}
